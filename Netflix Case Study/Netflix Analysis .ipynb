{
 "cells": [
  {
   "cell_type": "markdown",
   "id": "3305a51d",
   "metadata": {},
   "source": [
    "# Case Study"
   ]
  },
  {
   "cell_type": "markdown",
   "id": "dfde3cdf",
   "metadata": {},
   "source": [
    "## Business Problem:"
   ]
  },
  {
   "cell_type": "markdown",
   "id": "d2df4c12",
   "metadata": {},
   "source": [
    "Our objective is to analyze the Netflix content landscape to optimize our content strategy and enhance user engagement. By leveraging data analytics, we aim to identify trends and opportunities that will drive informed decision-making and sustained growth in the competitive streaming industry."
   ]
  },
  {
   "cell_type": "code",
   "execution_count": 1,
   "id": "affd279a",
   "metadata": {},
   "outputs": [],
   "source": [
    "# Importing essential libraries \n",
    "import numpy as np \n",
    "import pandas as pd \n",
    "import matplotlib.pyplot as plt\n",
    "import seaborn as sns \n",
    "import warnings\n",
    "warnings.filterwarnings('ignore')"
   ]
  },
  {
   "cell_type": "markdown",
   "id": "2858642c",
   "metadata": {},
   "source": [
    "###  1. Load the dataset "
   ]
  },
  {
   "cell_type": "code",
   "execution_count": 2,
   "id": "b2b6b156",
   "metadata": {},
   "outputs": [],
   "source": [
    "# Loading the dataset\n",
    "data = pd.read_csv(r\"C:\\Users\\ISHIKA KATARIA\\Downloads\\archive (4)\\netflix_titles.csv\")"
   ]
  },
  {
   "cell_type": "markdown",
   "id": "44ccb8ad",
   "metadata": {},
   "source": [
    "### 2. Prepare a summary report for the data "
   ]
  },
  {
   "cell_type": "code",
   "execution_count": 3,
   "id": "05727c81",
   "metadata": {},
   "outputs": [
    {
     "data": {
      "text/plain": [
       "(8807, 12)"
      ]
     },
     "execution_count": 3,
     "metadata": {},
     "output_type": "execute_result"
    }
   ],
   "source": [
    "data.shape                           # 8807 Rows and 12 Columns "
   ]
  },
  {
   "cell_type": "code",
   "execution_count": 4,
   "id": "1bb5433e",
   "metadata": {},
   "outputs": [
    {
     "data": {
      "text/html": [
       "<div>\n",
       "<style scoped>\n",
       "    .dataframe tbody tr th:only-of-type {\n",
       "        vertical-align: middle;\n",
       "    }\n",
       "\n",
       "    .dataframe tbody tr th {\n",
       "        vertical-align: top;\n",
       "    }\n",
       "\n",
       "    .dataframe thead th {\n",
       "        text-align: right;\n",
       "    }\n",
       "</style>\n",
       "<table border=\"1\" class=\"dataframe\">\n",
       "  <thead>\n",
       "    <tr style=\"text-align: right;\">\n",
       "      <th></th>\n",
       "      <th>show_id</th>\n",
       "      <th>type</th>\n",
       "      <th>title</th>\n",
       "      <th>director</th>\n",
       "      <th>cast</th>\n",
       "      <th>country</th>\n",
       "      <th>date_added</th>\n",
       "      <th>release_year</th>\n",
       "      <th>rating</th>\n",
       "      <th>duration</th>\n",
       "      <th>listed_in</th>\n",
       "      <th>description</th>\n",
       "    </tr>\n",
       "  </thead>\n",
       "  <tbody>\n",
       "    <tr>\n",
       "      <th>0</th>\n",
       "      <td>s1</td>\n",
       "      <td>Movie</td>\n",
       "      <td>Dick Johnson Is Dead</td>\n",
       "      <td>Kirsten Johnson</td>\n",
       "      <td>NaN</td>\n",
       "      <td>United States</td>\n",
       "      <td>September 25, 2021</td>\n",
       "      <td>2020</td>\n",
       "      <td>PG-13</td>\n",
       "      <td>90 min</td>\n",
       "      <td>Documentaries</td>\n",
       "      <td>As her father nears the end of his life, filmm...</td>\n",
       "    </tr>\n",
       "    <tr>\n",
       "      <th>1</th>\n",
       "      <td>s2</td>\n",
       "      <td>TV Show</td>\n",
       "      <td>Blood &amp; Water</td>\n",
       "      <td>NaN</td>\n",
       "      <td>Ama Qamata, Khosi Ngema, Gail Mabalane, Thaban...</td>\n",
       "      <td>South Africa</td>\n",
       "      <td>September 24, 2021</td>\n",
       "      <td>2021</td>\n",
       "      <td>TV-MA</td>\n",
       "      <td>2 Seasons</td>\n",
       "      <td>International TV Shows, TV Dramas, TV Mysteries</td>\n",
       "      <td>After crossing paths at a party, a Cape Town t...</td>\n",
       "    </tr>\n",
       "    <tr>\n",
       "      <th>2</th>\n",
       "      <td>s3</td>\n",
       "      <td>TV Show</td>\n",
       "      <td>Ganglands</td>\n",
       "      <td>Julien Leclercq</td>\n",
       "      <td>Sami Bouajila, Tracy Gotoas, Samuel Jouy, Nabi...</td>\n",
       "      <td>NaN</td>\n",
       "      <td>September 24, 2021</td>\n",
       "      <td>2021</td>\n",
       "      <td>TV-MA</td>\n",
       "      <td>1 Season</td>\n",
       "      <td>Crime TV Shows, International TV Shows, TV Act...</td>\n",
       "      <td>To protect his family from a powerful drug lor...</td>\n",
       "    </tr>\n",
       "    <tr>\n",
       "      <th>3</th>\n",
       "      <td>s4</td>\n",
       "      <td>TV Show</td>\n",
       "      <td>Jailbirds New Orleans</td>\n",
       "      <td>NaN</td>\n",
       "      <td>NaN</td>\n",
       "      <td>NaN</td>\n",
       "      <td>September 24, 2021</td>\n",
       "      <td>2021</td>\n",
       "      <td>TV-MA</td>\n",
       "      <td>1 Season</td>\n",
       "      <td>Docuseries, Reality TV</td>\n",
       "      <td>Feuds, flirtations and toilet talk go down amo...</td>\n",
       "    </tr>\n",
       "    <tr>\n",
       "      <th>4</th>\n",
       "      <td>s5</td>\n",
       "      <td>TV Show</td>\n",
       "      <td>Kota Factory</td>\n",
       "      <td>NaN</td>\n",
       "      <td>Mayur More, Jitendra Kumar, Ranjan Raj, Alam K...</td>\n",
       "      <td>India</td>\n",
       "      <td>September 24, 2021</td>\n",
       "      <td>2021</td>\n",
       "      <td>TV-MA</td>\n",
       "      <td>2 Seasons</td>\n",
       "      <td>International TV Shows, Romantic TV Shows, TV ...</td>\n",
       "      <td>In a city of coaching centers known to train I...</td>\n",
       "    </tr>\n",
       "  </tbody>\n",
       "</table>\n",
       "</div>"
      ],
      "text/plain": [
       "  show_id     type                  title         director  \\\n",
       "0      s1    Movie   Dick Johnson Is Dead  Kirsten Johnson   \n",
       "1      s2  TV Show          Blood & Water              NaN   \n",
       "2      s3  TV Show              Ganglands  Julien Leclercq   \n",
       "3      s4  TV Show  Jailbirds New Orleans              NaN   \n",
       "4      s5  TV Show           Kota Factory              NaN   \n",
       "\n",
       "                                                cast        country  \\\n",
       "0                                                NaN  United States   \n",
       "1  Ama Qamata, Khosi Ngema, Gail Mabalane, Thaban...   South Africa   \n",
       "2  Sami Bouajila, Tracy Gotoas, Samuel Jouy, Nabi...            NaN   \n",
       "3                                                NaN            NaN   \n",
       "4  Mayur More, Jitendra Kumar, Ranjan Raj, Alam K...          India   \n",
       "\n",
       "           date_added  release_year rating   duration  \\\n",
       "0  September 25, 2021          2020  PG-13     90 min   \n",
       "1  September 24, 2021          2021  TV-MA  2 Seasons   \n",
       "2  September 24, 2021          2021  TV-MA   1 Season   \n",
       "3  September 24, 2021          2021  TV-MA   1 Season   \n",
       "4  September 24, 2021          2021  TV-MA  2 Seasons   \n",
       "\n",
       "                                           listed_in  \\\n",
       "0                                      Documentaries   \n",
       "1    International TV Shows, TV Dramas, TV Mysteries   \n",
       "2  Crime TV Shows, International TV Shows, TV Act...   \n",
       "3                             Docuseries, Reality TV   \n",
       "4  International TV Shows, Romantic TV Shows, TV ...   \n",
       "\n",
       "                                         description  \n",
       "0  As her father nears the end of his life, filmm...  \n",
       "1  After crossing paths at a party, a Cape Town t...  \n",
       "2  To protect his family from a powerful drug lor...  \n",
       "3  Feuds, flirtations and toilet talk go down amo...  \n",
       "4  In a city of coaching centers known to train I...  "
      ]
     },
     "execution_count": 4,
     "metadata": {},
     "output_type": "execute_result"
    }
   ],
   "source": [
    "# Top 5 rows in the data \n",
    "data.head()"
   ]
  },
  {
   "cell_type": "code",
   "execution_count": 5,
   "id": "fad635ff",
   "metadata": {},
   "outputs": [
    {
     "data": {
      "text/html": [
       "<div>\n",
       "<style scoped>\n",
       "    .dataframe tbody tr th:only-of-type {\n",
       "        vertical-align: middle;\n",
       "    }\n",
       "\n",
       "    .dataframe tbody tr th {\n",
       "        vertical-align: top;\n",
       "    }\n",
       "\n",
       "    .dataframe thead th {\n",
       "        text-align: right;\n",
       "    }\n",
       "</style>\n",
       "<table border=\"1\" class=\"dataframe\">\n",
       "  <thead>\n",
       "    <tr style=\"text-align: right;\">\n",
       "      <th></th>\n",
       "      <th>show_id</th>\n",
       "      <th>type</th>\n",
       "      <th>title</th>\n",
       "      <th>director</th>\n",
       "      <th>cast</th>\n",
       "      <th>country</th>\n",
       "      <th>date_added</th>\n",
       "      <th>release_year</th>\n",
       "      <th>rating</th>\n",
       "      <th>duration</th>\n",
       "      <th>listed_in</th>\n",
       "      <th>description</th>\n",
       "    </tr>\n",
       "  </thead>\n",
       "  <tbody>\n",
       "    <tr>\n",
       "      <th>8802</th>\n",
       "      <td>s8803</td>\n",
       "      <td>Movie</td>\n",
       "      <td>Zodiac</td>\n",
       "      <td>David Fincher</td>\n",
       "      <td>Mark Ruffalo, Jake Gyllenhaal, Robert Downey J...</td>\n",
       "      <td>United States</td>\n",
       "      <td>November 20, 2019</td>\n",
       "      <td>2007</td>\n",
       "      <td>R</td>\n",
       "      <td>158 min</td>\n",
       "      <td>Cult Movies, Dramas, Thrillers</td>\n",
       "      <td>A political cartoonist, a crime reporter and a...</td>\n",
       "    </tr>\n",
       "    <tr>\n",
       "      <th>8803</th>\n",
       "      <td>s8804</td>\n",
       "      <td>TV Show</td>\n",
       "      <td>Zombie Dumb</td>\n",
       "      <td>NaN</td>\n",
       "      <td>NaN</td>\n",
       "      <td>NaN</td>\n",
       "      <td>July 1, 2019</td>\n",
       "      <td>2018</td>\n",
       "      <td>TV-Y7</td>\n",
       "      <td>2 Seasons</td>\n",
       "      <td>Kids' TV, Korean TV Shows, TV Comedies</td>\n",
       "      <td>While living alone in a spooky town, a young g...</td>\n",
       "    </tr>\n",
       "    <tr>\n",
       "      <th>8804</th>\n",
       "      <td>s8805</td>\n",
       "      <td>Movie</td>\n",
       "      <td>Zombieland</td>\n",
       "      <td>Ruben Fleischer</td>\n",
       "      <td>Jesse Eisenberg, Woody Harrelson, Emma Stone, ...</td>\n",
       "      <td>United States</td>\n",
       "      <td>November 1, 2019</td>\n",
       "      <td>2009</td>\n",
       "      <td>R</td>\n",
       "      <td>88 min</td>\n",
       "      <td>Comedies, Horror Movies</td>\n",
       "      <td>Looking to survive in a world taken over by zo...</td>\n",
       "    </tr>\n",
       "    <tr>\n",
       "      <th>8805</th>\n",
       "      <td>s8806</td>\n",
       "      <td>Movie</td>\n",
       "      <td>Zoom</td>\n",
       "      <td>Peter Hewitt</td>\n",
       "      <td>Tim Allen, Courteney Cox, Chevy Chase, Kate Ma...</td>\n",
       "      <td>United States</td>\n",
       "      <td>January 11, 2020</td>\n",
       "      <td>2006</td>\n",
       "      <td>PG</td>\n",
       "      <td>88 min</td>\n",
       "      <td>Children &amp; Family Movies, Comedies</td>\n",
       "      <td>Dragged from civilian life, a former superhero...</td>\n",
       "    </tr>\n",
       "    <tr>\n",
       "      <th>8806</th>\n",
       "      <td>s8807</td>\n",
       "      <td>Movie</td>\n",
       "      <td>Zubaan</td>\n",
       "      <td>Mozez Singh</td>\n",
       "      <td>Vicky Kaushal, Sarah-Jane Dias, Raaghav Chanan...</td>\n",
       "      <td>India</td>\n",
       "      <td>March 2, 2019</td>\n",
       "      <td>2015</td>\n",
       "      <td>TV-14</td>\n",
       "      <td>111 min</td>\n",
       "      <td>Dramas, International Movies, Music &amp; Musicals</td>\n",
       "      <td>A scrappy but poor boy worms his way into a ty...</td>\n",
       "    </tr>\n",
       "  </tbody>\n",
       "</table>\n",
       "</div>"
      ],
      "text/plain": [
       "     show_id     type        title         director  \\\n",
       "8802   s8803    Movie       Zodiac    David Fincher   \n",
       "8803   s8804  TV Show  Zombie Dumb              NaN   \n",
       "8804   s8805    Movie   Zombieland  Ruben Fleischer   \n",
       "8805   s8806    Movie         Zoom     Peter Hewitt   \n",
       "8806   s8807    Movie       Zubaan      Mozez Singh   \n",
       "\n",
       "                                                   cast        country  \\\n",
       "8802  Mark Ruffalo, Jake Gyllenhaal, Robert Downey J...  United States   \n",
       "8803                                                NaN            NaN   \n",
       "8804  Jesse Eisenberg, Woody Harrelson, Emma Stone, ...  United States   \n",
       "8805  Tim Allen, Courteney Cox, Chevy Chase, Kate Ma...  United States   \n",
       "8806  Vicky Kaushal, Sarah-Jane Dias, Raaghav Chanan...          India   \n",
       "\n",
       "             date_added  release_year rating   duration  \\\n",
       "8802  November 20, 2019          2007      R    158 min   \n",
       "8803       July 1, 2019          2018  TV-Y7  2 Seasons   \n",
       "8804   November 1, 2019          2009      R     88 min   \n",
       "8805   January 11, 2020          2006     PG     88 min   \n",
       "8806      March 2, 2019          2015  TV-14    111 min   \n",
       "\n",
       "                                           listed_in  \\\n",
       "8802                  Cult Movies, Dramas, Thrillers   \n",
       "8803          Kids' TV, Korean TV Shows, TV Comedies   \n",
       "8804                         Comedies, Horror Movies   \n",
       "8805              Children & Family Movies, Comedies   \n",
       "8806  Dramas, International Movies, Music & Musicals   \n",
       "\n",
       "                                            description  \n",
       "8802  A political cartoonist, a crime reporter and a...  \n",
       "8803  While living alone in a spooky town, a young g...  \n",
       "8804  Looking to survive in a world taken over by zo...  \n",
       "8805  Dragged from civilian life, a former superhero...  \n",
       "8806  A scrappy but poor boy worms his way into a ty...  "
      ]
     },
     "execution_count": 5,
     "metadata": {},
     "output_type": "execute_result"
    }
   ],
   "source": [
    "# Bottom 5 rows in the data \n",
    "data.tail()"
   ]
  },
  {
   "cell_type": "code",
   "execution_count": 6,
   "id": "2af557de",
   "metadata": {},
   "outputs": [
    {
     "data": {
      "text/plain": [
       "Index(['show_id', 'type', 'title', 'director', 'cast', 'country', 'date_added',\n",
       "       'rating', 'duration', 'listed_in', 'description'],\n",
       "      dtype='object')"
      ]
     },
     "execution_count": 6,
     "metadata": {},
     "output_type": "execute_result"
    }
   ],
   "source": [
    "data.select_dtypes(include='object').columns         # 11 Columns in this dataset are object "
   ]
  },
  {
   "cell_type": "code",
   "execution_count": 7,
   "id": "0ed6596b",
   "metadata": {},
   "outputs": [
    {
     "data": {
      "text/plain": [
       "Index(['release_year'], dtype='object')"
      ]
     },
     "execution_count": 7,
     "metadata": {},
     "output_type": "execute_result"
    }
   ],
   "source": [
    "data.select_dtypes(include=np.number).columns         # 1 Column in the datset is number"
   ]
  },
  {
   "cell_type": "code",
   "execution_count": 8,
   "id": "7545b583",
   "metadata": {},
   "outputs": [
    {
     "data": {
      "text/html": [
       "<div>\n",
       "<style scoped>\n",
       "    .dataframe tbody tr th:only-of-type {\n",
       "        vertical-align: middle;\n",
       "    }\n",
       "\n",
       "    .dataframe tbody tr th {\n",
       "        vertical-align: top;\n",
       "    }\n",
       "\n",
       "    .dataframe thead th {\n",
       "        text-align: right;\n",
       "    }\n",
       "</style>\n",
       "<table border=\"1\" class=\"dataframe\">\n",
       "  <thead>\n",
       "    <tr style=\"text-align: right;\">\n",
       "      <th></th>\n",
       "      <th>count</th>\n",
       "      <th>mean</th>\n",
       "      <th>std</th>\n",
       "      <th>min</th>\n",
       "      <th>25%</th>\n",
       "      <th>50%</th>\n",
       "      <th>75%</th>\n",
       "      <th>max</th>\n",
       "    </tr>\n",
       "  </thead>\n",
       "  <tbody>\n",
       "    <tr>\n",
       "      <th>release_year</th>\n",
       "      <td>8807.0</td>\n",
       "      <td>2014.180198</td>\n",
       "      <td>8.819312</td>\n",
       "      <td>1925.0</td>\n",
       "      <td>2013.0</td>\n",
       "      <td>2017.0</td>\n",
       "      <td>2019.0</td>\n",
       "      <td>2021.0</td>\n",
       "    </tr>\n",
       "  </tbody>\n",
       "</table>\n",
       "</div>"
      ],
      "text/plain": [
       "               count         mean       std     min     25%     50%     75%  \\\n",
       "release_year  8807.0  2014.180198  8.819312  1925.0  2013.0  2017.0  2019.0   \n",
       "\n",
       "                 max  \n",
       "release_year  2021.0  "
      ]
     },
     "execution_count": 8,
     "metadata": {},
     "output_type": "execute_result"
    }
   ],
   "source": [
    "# Summary of the dataset for number column \n",
    "data.describe().T"
   ]
  },
  {
   "cell_type": "markdown",
   "id": "925b3f31",
   "metadata": {},
   "source": [
    "#### Inferences :\n",
    "* The count of the release_data is 8807 which is equal to the number of rows in the data indicating that their are no null values in the column.\n",
    "* The mean of the column release_date is 2014.18 which indicates that the average content available on netflix was released in 2010s.\n",
    "* The standard deviation is approximately 8.8 which means that the measure of release_date is around the mean.Since the standard deviation is relatively small, it suggests that most of the release years are clustered closely around the mean.2\n",
    "* The minimun release_year is 1925 and maximun is 2021 which means that the data includes content till 2021.\n",
    "* 25% of the data have release years prior to or equal to 2013, 50% of the data have release years prior to or equal to 2017. and 75% of the data have release years prior to or equal to 2019."
   ]
  },
  {
   "cell_type": "code",
   "execution_count": 9,
   "id": "d9244822",
   "metadata": {},
   "outputs": [
    {
     "data": {
      "text/html": [
       "<div>\n",
       "<style scoped>\n",
       "    .dataframe tbody tr th:only-of-type {\n",
       "        vertical-align: middle;\n",
       "    }\n",
       "\n",
       "    .dataframe tbody tr th {\n",
       "        vertical-align: top;\n",
       "    }\n",
       "\n",
       "    .dataframe thead th {\n",
       "        text-align: right;\n",
       "    }\n",
       "</style>\n",
       "<table border=\"1\" class=\"dataframe\">\n",
       "  <thead>\n",
       "    <tr style=\"text-align: right;\">\n",
       "      <th></th>\n",
       "      <th>count</th>\n",
       "      <th>unique</th>\n",
       "      <th>top</th>\n",
       "      <th>freq</th>\n",
       "    </tr>\n",
       "  </thead>\n",
       "  <tbody>\n",
       "    <tr>\n",
       "      <th>show_id</th>\n",
       "      <td>8807</td>\n",
       "      <td>8807</td>\n",
       "      <td>s1</td>\n",
       "      <td>1</td>\n",
       "    </tr>\n",
       "    <tr>\n",
       "      <th>type</th>\n",
       "      <td>8807</td>\n",
       "      <td>2</td>\n",
       "      <td>Movie</td>\n",
       "      <td>6131</td>\n",
       "    </tr>\n",
       "    <tr>\n",
       "      <th>title</th>\n",
       "      <td>8807</td>\n",
       "      <td>8807</td>\n",
       "      <td>Dick Johnson Is Dead</td>\n",
       "      <td>1</td>\n",
       "    </tr>\n",
       "    <tr>\n",
       "      <th>director</th>\n",
       "      <td>6173</td>\n",
       "      <td>4528</td>\n",
       "      <td>Rajiv Chilaka</td>\n",
       "      <td>19</td>\n",
       "    </tr>\n",
       "    <tr>\n",
       "      <th>cast</th>\n",
       "      <td>7982</td>\n",
       "      <td>7692</td>\n",
       "      <td>David Attenborough</td>\n",
       "      <td>19</td>\n",
       "    </tr>\n",
       "    <tr>\n",
       "      <th>country</th>\n",
       "      <td>7976</td>\n",
       "      <td>748</td>\n",
       "      <td>United States</td>\n",
       "      <td>2818</td>\n",
       "    </tr>\n",
       "    <tr>\n",
       "      <th>date_added</th>\n",
       "      <td>8797</td>\n",
       "      <td>1767</td>\n",
       "      <td>January 1, 2020</td>\n",
       "      <td>109</td>\n",
       "    </tr>\n",
       "    <tr>\n",
       "      <th>rating</th>\n",
       "      <td>8803</td>\n",
       "      <td>17</td>\n",
       "      <td>TV-MA</td>\n",
       "      <td>3207</td>\n",
       "    </tr>\n",
       "    <tr>\n",
       "      <th>duration</th>\n",
       "      <td>8804</td>\n",
       "      <td>220</td>\n",
       "      <td>1 Season</td>\n",
       "      <td>1793</td>\n",
       "    </tr>\n",
       "    <tr>\n",
       "      <th>listed_in</th>\n",
       "      <td>8807</td>\n",
       "      <td>514</td>\n",
       "      <td>Dramas, International Movies</td>\n",
       "      <td>362</td>\n",
       "    </tr>\n",
       "    <tr>\n",
       "      <th>description</th>\n",
       "      <td>8807</td>\n",
       "      <td>8775</td>\n",
       "      <td>Paranormal activity at a lush, abandoned prope...</td>\n",
       "      <td>4</td>\n",
       "    </tr>\n",
       "  </tbody>\n",
       "</table>\n",
       "</div>"
      ],
      "text/plain": [
       "            count unique                                                top  \\\n",
       "show_id      8807   8807                                                 s1   \n",
       "type         8807      2                                              Movie   \n",
       "title        8807   8807                               Dick Johnson Is Dead   \n",
       "director     6173   4528                                      Rajiv Chilaka   \n",
       "cast         7982   7692                                 David Attenborough   \n",
       "country      7976    748                                      United States   \n",
       "date_added   8797   1767                                    January 1, 2020   \n",
       "rating       8803     17                                              TV-MA   \n",
       "duration     8804    220                                           1 Season   \n",
       "listed_in    8807    514                       Dramas, International Movies   \n",
       "description  8807   8775  Paranormal activity at a lush, abandoned prope...   \n",
       "\n",
       "             freq  \n",
       "show_id         1  \n",
       "type         6131  \n",
       "title           1  \n",
       "director       19  \n",
       "cast           19  \n",
       "country      2818  \n",
       "date_added    109  \n",
       "rating       3207  \n",
       "duration     1793  \n",
       "listed_in     362  \n",
       "description     4  "
      ]
     },
     "execution_count": 9,
     "metadata": {},
     "output_type": "execute_result"
    }
   ],
   "source": [
    "# Summary of dataset for category columns\n",
    "data.describe(include='object').T"
   ]
  },
  {
   "cell_type": "markdown",
   "id": "19bb4676",
   "metadata": {},
   "source": [
    "#### Inferences:\n",
    "* The count of category columns indicates that there are some null values in the columns: director,country,cast,date_added,rating and duration.\n",
    "* Unique attribute indicates the count of unique values and helps in understanding the diversity of values within the column, lets say that the column \"type\" has 2 unique values.\n",
    "* The frequency of moive is 6131 indicating that in the dataset there are 6131 movie and rest are TV shows."
   ]
  },
  {
   "cell_type": "markdown",
   "id": "df9ca394",
   "metadata": {},
   "source": [
    "### 3. What are the different types of content available on Netflix?"
   ]
  },
  {
   "cell_type": "code",
   "execution_count": 10,
   "id": "59194191",
   "metadata": {},
   "outputs": [
    {
     "data": {
      "text/plain": [
       "type\n",
       "Movie      6131\n",
       "TV Show    2676\n",
       "Name: type, dtype: int64"
      ]
     },
     "execution_count": 10,
     "metadata": {},
     "output_type": "execute_result"
    }
   ],
   "source": [
    "data.groupby(by='type')['type'].count()"
   ]
  },
  {
   "cell_type": "markdown",
   "id": "1a9b0b0f",
   "metadata": {},
   "source": [
    "* The different type of content available of Netflix is TV shows and Movie, where the count of Movie is 6131 and count of TV show is 2676."
   ]
  },
  {
   "cell_type": "markdown",
   "id": "960060b1",
   "metadata": {},
   "source": [
    "### 4. Which director has the most content available on Netflix?"
   ]
  },
  {
   "cell_type": "code",
   "execution_count": 11,
   "id": "5fa1835f",
   "metadata": {},
   "outputs": [
    {
     "data": {
      "text/plain": [
       "director\n",
       "Rajiv Chilaka                            19\n",
       "Raúl Campos, Jan Suter                   18\n",
       "Suhas Kadav                              16\n",
       "Marcus Raboy                             16\n",
       "Jay Karas                                14\n",
       "                                         ..\n",
       "Jos Humphrey                              1\n",
       "Jose Gomez                                1\n",
       "Jose Javier Reyes                         1\n",
       "Joseduardo Giordano, Sergio Goyri Jr.     1\n",
       "Khaled Youssef                            1\n",
       "Name: count, Length: 4528, dtype: int64"
      ]
     },
     "execution_count": 11,
     "metadata": {},
     "output_type": "execute_result"
    }
   ],
   "source": [
    "data.value_counts('director')"
   ]
  },
  {
   "cell_type": "markdown",
   "id": "334b9b5d",
   "metadata": {},
   "source": [
    "* Rajiv Chilaka has the most available content on Netflix."
   ]
  },
  {
   "cell_type": "markdown",
   "id": "55d08c79",
   "metadata": {},
   "source": [
    "### 5. Who are the top 5 most frequently occurring actors/actresses on Netflix?"
   ]
  },
  {
   "cell_type": "code",
   "execution_count": 12,
   "id": "2d276e35",
   "metadata": {},
   "outputs": [
    {
     "data": {
      "text/plain": [
       "cast\n",
       "David Attenborough                                                                         19\n",
       "Vatsal Dubey, Julie Tejwani, Rupa Bhimani, Jigna Bhardwaj, Rajesh Kava, Mousam, Swapnil    14\n",
       "Samuel West                                                                                10\n",
       "Jeff Dunham                                                                                 7\n",
       "Kevin Hart                                                                                  6\n",
       "Name: count, dtype: int64"
      ]
     },
     "execution_count": 12,
     "metadata": {},
     "output_type": "execute_result"
    }
   ],
   "source": [
    "data.value_counts('cast').head()"
   ]
  },
  {
   "cell_type": "markdown",
   "id": "f16517b5",
   "metadata": {},
   "source": [
    "* These are most frequently occurred actors/actresses on Netflix."
   ]
  },
  {
   "cell_type": "markdown",
   "id": "d9c24aa3",
   "metadata": {},
   "source": [
    "### 6. Which country produces the most content available on Netflix?"
   ]
  },
  {
   "cell_type": "code",
   "execution_count": 13,
   "id": "24e46e46",
   "metadata": {},
   "outputs": [
    {
     "data": {
      "text/plain": [
       "country\n",
       "United States    2818\n",
       "Name: count, dtype: int64"
      ]
     },
     "execution_count": 13,
     "metadata": {},
     "output_type": "execute_result"
    }
   ],
   "source": [
    "data.value_counts('country').head(1)"
   ]
  },
  {
   "cell_type": "markdown",
   "id": "dda59aef",
   "metadata": {},
   "source": [
    "* United States produces the most content available on Netflix."
   ]
  },
  {
   "cell_type": "markdown",
   "id": "f6dd3546",
   "metadata": {},
   "source": [
    "### 7. What is the distribution of content added over the years?"
   ]
  },
  {
   "cell_type": "markdown",
   "id": "ae04811d",
   "metadata": {},
   "source": [
    "To see the distribution of content added over the years, we can use date_added columns but as we know from the above summary that the date_added is string and also have some missing values. \n",
    "So, before extracting the year form the date_added column we need to clean te data and then Convert it into datetime format."
   ]
  },
  {
   "cell_type": "code",
   "execution_count": 14,
   "id": "5a7e8cf4",
   "metadata": {},
   "outputs": [],
   "source": [
    "# Drop the null values \n",
    "data.dropna(subset=['date_added'],inplace=True)"
   ]
  },
  {
   "cell_type": "code",
   "execution_count": 15,
   "id": "a862a536",
   "metadata": {},
   "outputs": [],
   "source": [
    "# Convert it to datetime function \n",
    "data['date_added']=pd.to_datetime(data['date_added'].str.strip())"
   ]
  },
  {
   "cell_type": "code",
   "execution_count": 16,
   "id": "cc37ddf0",
   "metadata": {},
   "outputs": [
    {
     "data": {
      "text/plain": [
       "show_id                 object\n",
       "type                    object\n",
       "title                   object\n",
       "director                object\n",
       "cast                    object\n",
       "country                 object\n",
       "date_added      datetime64[ns]\n",
       "release_year             int64\n",
       "rating                  object\n",
       "duration                object\n",
       "listed_in               object\n",
       "description             object\n",
       "dtype: object"
      ]
     },
     "execution_count": 16,
     "metadata": {},
     "output_type": "execute_result"
    }
   ],
   "source": [
    "# Lets check the datatype\n",
    "data.dtypes"
   ]
  },
  {
   "cell_type": "code",
   "execution_count": 17,
   "id": "16a1638c",
   "metadata": {},
   "outputs": [],
   "source": [
    "# Create a new column year_added \n",
    "data['year_added']=data['date_added'].dt.year"
   ]
  },
  {
   "cell_type": "code",
   "execution_count": 18,
   "id": "fd43cb77",
   "metadata": {},
   "outputs": [
    {
     "data": {
      "text/plain": [
       "0    2021\n",
       "1    2021\n",
       "2    2021\n",
       "3    2021\n",
       "4    2021\n",
       "Name: year_added, dtype: int32"
      ]
     },
     "execution_count": 18,
     "metadata": {},
     "output_type": "execute_result"
    }
   ],
   "source": [
    "# Lets check the Column \n",
    "data['year_added'].head()"
   ]
  },
  {
   "cell_type": "code",
   "execution_count": 19,
   "id": "aed85e64",
   "metadata": {},
   "outputs": [],
   "source": [
    "# Counting the values of year_added\n",
    "content_added_over_the_year=data.value_counts('year_added')"
   ]
  },
  {
   "cell_type": "code",
   "execution_count": 20,
   "id": "f26f5211",
   "metadata": {},
   "outputs": [
    {
     "data": {
      "image/png": "[encoded data removed]",
      "text/plain": [
       "<Figure size 1000x600 with 1 Axes>"
      ]
     },
     "metadata": {},
     "output_type": "display_data"
    }
   ],
   "source": [
    "# Plotting the distribution of content added over the years\n",
    "plt.figure(figsize=(10, 6))\n",
    "content_added_over_the_year.plot(kind='bar')\n",
    "plt.title('Distribution of content added over the years')\n",
    "plt.xlabel('Years')\n",
    "plt.ylabel('Number of Content Added')\n",
    "plt.grid(axis='y', linestyle='--', alpha=0.7)\n",
    "plt.show()"
   ]
  },
  {
   "cell_type": "markdown",
   "id": "30eb17d6",
   "metadata": {},
   "source": [
    "#### Inferences:\n",
    "* From the above graph we can conclude that the number of content added is highest in year 2019 and least in 2013.\n",
    "* And no content has been added in the years 2012 and previous years."
   ]
  },
  {
   "cell_type": "markdown",
   "id": "29497299",
   "metadata": {},
   "source": [
    "### 8. What are the top 10 oldest titles available on Netflix?"
   ]
  },
  {
   "cell_type": "code",
   "execution_count": 21,
   "id": "825804c5",
   "metadata": {},
   "outputs": [
    {
     "data": {
      "text/html": [
       "<div>\n",
       "<style scoped>\n",
       "    .dataframe tbody tr th:only-of-type {\n",
       "        vertical-align: middle;\n",
       "    }\n",
       "\n",
       "    .dataframe tbody tr th {\n",
       "        vertical-align: top;\n",
       "    }\n",
       "\n",
       "    .dataframe thead th {\n",
       "        text-align: right;\n",
       "    }\n",
       "</style>\n",
       "<table border=\"1\" class=\"dataframe\">\n",
       "  <thead>\n",
       "    <tr style=\"text-align: right;\">\n",
       "      <th></th>\n",
       "      <th>show_id</th>\n",
       "      <th>type</th>\n",
       "      <th>title</th>\n",
       "      <th>director</th>\n",
       "      <th>cast</th>\n",
       "      <th>country</th>\n",
       "      <th>date_added</th>\n",
       "      <th>release_year</th>\n",
       "      <th>rating</th>\n",
       "      <th>duration</th>\n",
       "      <th>listed_in</th>\n",
       "      <th>description</th>\n",
       "      <th>year_added</th>\n",
       "    </tr>\n",
       "  </thead>\n",
       "  <tbody>\n",
       "    <tr>\n",
       "      <th>4250</th>\n",
       "      <td>s4251</td>\n",
       "      <td>TV Show</td>\n",
       "      <td>Pioneers: First Women Filmmakers*</td>\n",
       "      <td>NaN</td>\n",
       "      <td>NaN</td>\n",
       "      <td>NaN</td>\n",
       "      <td>2018-12-30</td>\n",
       "      <td>1925</td>\n",
       "      <td>TV-14</td>\n",
       "      <td>1 Season</td>\n",
       "      <td>TV Shows</td>\n",
       "      <td>This collection restores films from women who ...</td>\n",
       "      <td>2018</td>\n",
       "    </tr>\n",
       "    <tr>\n",
       "      <th>7790</th>\n",
       "      <td>s7791</td>\n",
       "      <td>Movie</td>\n",
       "      <td>Prelude to War</td>\n",
       "      <td>Frank Capra</td>\n",
       "      <td>NaN</td>\n",
       "      <td>United States</td>\n",
       "      <td>2017-03-31</td>\n",
       "      <td>1942</td>\n",
       "      <td>TV-14</td>\n",
       "      <td>52 min</td>\n",
       "      <td>Classic Movies, Documentaries</td>\n",
       "      <td>Frank Capra's documentary chronicles the rise ...</td>\n",
       "      <td>2017</td>\n",
       "    </tr>\n",
       "    <tr>\n",
       "      <th>8205</th>\n",
       "      <td>s8206</td>\n",
       "      <td>Movie</td>\n",
       "      <td>The Battle of Midway</td>\n",
       "      <td>John Ford</td>\n",
       "      <td>Henry Fonda, Jane Darwell</td>\n",
       "      <td>United States</td>\n",
       "      <td>2017-03-31</td>\n",
       "      <td>1942</td>\n",
       "      <td>TV-14</td>\n",
       "      <td>18 min</td>\n",
       "      <td>Classic Movies, Documentaries</td>\n",
       "      <td>Director John Ford captures combat footage of ...</td>\n",
       "      <td>2017</td>\n",
       "    </tr>\n",
       "    <tr>\n",
       "      <th>8739</th>\n",
       "      <td>s8740</td>\n",
       "      <td>Movie</td>\n",
       "      <td>Why We Fight: The Battle of Russia</td>\n",
       "      <td>Frank Capra, Anatole Litvak</td>\n",
       "      <td>NaN</td>\n",
       "      <td>United States</td>\n",
       "      <td>2017-03-31</td>\n",
       "      <td>1943</td>\n",
       "      <td>TV-PG</td>\n",
       "      <td>82 min</td>\n",
       "      <td>Documentaries</td>\n",
       "      <td>This installment of Frank Capra's acclaimed do...</td>\n",
       "      <td>2017</td>\n",
       "    </tr>\n",
       "    <tr>\n",
       "      <th>8763</th>\n",
       "      <td>s8764</td>\n",
       "      <td>Movie</td>\n",
       "      <td>WWII: Report from the Aleutians</td>\n",
       "      <td>John Huston</td>\n",
       "      <td>NaN</td>\n",
       "      <td>United States</td>\n",
       "      <td>2017-03-31</td>\n",
       "      <td>1943</td>\n",
       "      <td>TV-PG</td>\n",
       "      <td>45 min</td>\n",
       "      <td>Documentaries</td>\n",
       "      <td>Filmmaker John Huston narrates this Oscar-nomi...</td>\n",
       "      <td>2017</td>\n",
       "    </tr>\n",
       "    <tr>\n",
       "      <th>8660</th>\n",
       "      <td>s8661</td>\n",
       "      <td>Movie</td>\n",
       "      <td>Undercover: How to Operate Behind Enemy Lines</td>\n",
       "      <td>John Ford</td>\n",
       "      <td>NaN</td>\n",
       "      <td>United States</td>\n",
       "      <td>2017-03-31</td>\n",
       "      <td>1943</td>\n",
       "      <td>TV-PG</td>\n",
       "      <td>61 min</td>\n",
       "      <td>Classic Movies, Documentaries</td>\n",
       "      <td>This World War II-era training film dramatizes...</td>\n",
       "      <td>2017</td>\n",
       "    </tr>\n",
       "    <tr>\n",
       "      <th>8419</th>\n",
       "      <td>s8420</td>\n",
       "      <td>Movie</td>\n",
       "      <td>The Memphis Belle: A Story of a\\nFlying Fortress</td>\n",
       "      <td>William Wyler</td>\n",
       "      <td>NaN</td>\n",
       "      <td>United States</td>\n",
       "      <td>2017-03-31</td>\n",
       "      <td>1944</td>\n",
       "      <td>TV-PG</td>\n",
       "      <td>40 min</td>\n",
       "      <td>Classic Movies, Documentaries</td>\n",
       "      <td>This documentary centers on the crew of the B-...</td>\n",
       "      <td>2017</td>\n",
       "    </tr>\n",
       "    <tr>\n",
       "      <th>8436</th>\n",
       "      <td>s8437</td>\n",
       "      <td>Movie</td>\n",
       "      <td>The Negro Soldier</td>\n",
       "      <td>Stuart Heisler</td>\n",
       "      <td>NaN</td>\n",
       "      <td>United States</td>\n",
       "      <td>2017-03-31</td>\n",
       "      <td>1944</td>\n",
       "      <td>TV-14</td>\n",
       "      <td>40 min</td>\n",
       "      <td>Classic Movies, Documentaries</td>\n",
       "      <td>This documentary urged African Americans to en...</td>\n",
       "      <td>2017</td>\n",
       "    </tr>\n",
       "    <tr>\n",
       "      <th>8640</th>\n",
       "      <td>s8641</td>\n",
       "      <td>Movie</td>\n",
       "      <td>Tunisian Victory</td>\n",
       "      <td>Frank Capra, John Huston, Hugh Stewart, Roy Bo...</td>\n",
       "      <td>Burgess Meredith</td>\n",
       "      <td>United States, United Kingdom</td>\n",
       "      <td>2017-03-31</td>\n",
       "      <td>1944</td>\n",
       "      <td>TV-14</td>\n",
       "      <td>76 min</td>\n",
       "      <td>Classic Movies, Documentaries</td>\n",
       "      <td>British and American troops join forces to lib...</td>\n",
       "      <td>2017</td>\n",
       "    </tr>\n",
       "    <tr>\n",
       "      <th>7219</th>\n",
       "      <td>s7220</td>\n",
       "      <td>Movie</td>\n",
       "      <td>Know Your Enemy - Japan</td>\n",
       "      <td>Frank Capra, Joris Ivens</td>\n",
       "      <td>Walter Huston, Dana Andrews</td>\n",
       "      <td>United States</td>\n",
       "      <td>2017-03-31</td>\n",
       "      <td>1945</td>\n",
       "      <td>TV-14</td>\n",
       "      <td>63 min</td>\n",
       "      <td>Classic Movies, Documentaries</td>\n",
       "      <td>Though culturally insensitive by modern standa...</td>\n",
       "      <td>2017</td>\n",
       "    </tr>\n",
       "  </tbody>\n",
       "</table>\n",
       "</div>"
      ],
      "text/plain": [
       "     show_id     type                                             title  \\\n",
       "4250   s4251  TV Show                 Pioneers: First Women Filmmakers*   \n",
       "7790   s7791    Movie                                    Prelude to War   \n",
       "8205   s8206    Movie                              The Battle of Midway   \n",
       "8739   s8740    Movie                Why We Fight: The Battle of Russia   \n",
       "8763   s8764    Movie                   WWII: Report from the Aleutians   \n",
       "8660   s8661    Movie     Undercover: How to Operate Behind Enemy Lines   \n",
       "8419   s8420    Movie  The Memphis Belle: A Story of a\\nFlying Fortress   \n",
       "8436   s8437    Movie                                 The Negro Soldier   \n",
       "8640   s8641    Movie                                  Tunisian Victory   \n",
       "7219   s7220    Movie                           Know Your Enemy - Japan   \n",
       "\n",
       "                                               director  \\\n",
       "4250                                                NaN   \n",
       "7790                                        Frank Capra   \n",
       "8205                                          John Ford   \n",
       "8739                        Frank Capra, Anatole Litvak   \n",
       "8763                                        John Huston   \n",
       "8660                                          John Ford   \n",
       "8419                                      William Wyler   \n",
       "8436                                     Stuart Heisler   \n",
       "8640  Frank Capra, John Huston, Hugh Stewart, Roy Bo...   \n",
       "7219                           Frank Capra, Joris Ivens   \n",
       "\n",
       "                             cast                        country date_added  \\\n",
       "4250                          NaN                            NaN 2018-12-30   \n",
       "7790                          NaN                  United States 2017-03-31   \n",
       "8205    Henry Fonda, Jane Darwell                  United States 2017-03-31   \n",
       "8739                          NaN                  United States 2017-03-31   \n",
       "8763                          NaN                  United States 2017-03-31   \n",
       "8660                          NaN                  United States 2017-03-31   \n",
       "8419                          NaN                  United States 2017-03-31   \n",
       "8436                          NaN                  United States 2017-03-31   \n",
       "8640             Burgess Meredith  United States, United Kingdom 2017-03-31   \n",
       "7219  Walter Huston, Dana Andrews                  United States 2017-03-31   \n",
       "\n",
       "      release_year rating  duration                      listed_in  \\\n",
       "4250          1925  TV-14  1 Season                       TV Shows   \n",
       "7790          1942  TV-14    52 min  Classic Movies, Documentaries   \n",
       "8205          1942  TV-14    18 min  Classic Movies, Documentaries   \n",
       "8739          1943  TV-PG    82 min                  Documentaries   \n",
       "8763          1943  TV-PG    45 min                  Documentaries   \n",
       "8660          1943  TV-PG    61 min  Classic Movies, Documentaries   \n",
       "8419          1944  TV-PG    40 min  Classic Movies, Documentaries   \n",
       "8436          1944  TV-14    40 min  Classic Movies, Documentaries   \n",
       "8640          1944  TV-14    76 min  Classic Movies, Documentaries   \n",
       "7219          1945  TV-14    63 min  Classic Movies, Documentaries   \n",
       "\n",
       "                                            description  year_added  \n",
       "4250  This collection restores films from women who ...        2018  \n",
       "7790  Frank Capra's documentary chronicles the rise ...        2017  \n",
       "8205  Director John Ford captures combat footage of ...        2017  \n",
       "8739  This installment of Frank Capra's acclaimed do...        2017  \n",
       "8763  Filmmaker John Huston narrates this Oscar-nomi...        2017  \n",
       "8660  This World War II-era training film dramatizes...        2017  \n",
       "8419  This documentary centers on the crew of the B-...        2017  \n",
       "8436  This documentary urged African Americans to en...        2017  \n",
       "8640  British and American troops join forces to lib...        2017  \n",
       "7219  Though culturally insensitive by modern standa...        2017  "
      ]
     },
     "execution_count": 21,
     "metadata": {},
     "output_type": "execute_result"
    }
   ],
   "source": [
    "# Top 10 oldest titles available on Netflix\n",
    "data.sort_values(by='release_year',ascending=True).head(10)"
   ]
  },
  {
   "cell_type": "markdown",
   "id": "e47715eb",
   "metadata": {},
   "source": [
    "### 9. What are the top 10 newest titles available on Netflix?"
   ]
  },
  {
   "cell_type": "code",
   "execution_count": 22,
   "id": "dfe3bacc",
   "metadata": {},
   "outputs": [
    {
     "data": {
      "text/html": [
       "<div>\n",
       "<style scoped>\n",
       "    .dataframe tbody tr th:only-of-type {\n",
       "        vertical-align: middle;\n",
       "    }\n",
       "\n",
       "    .dataframe tbody tr th {\n",
       "        vertical-align: top;\n",
       "    }\n",
       "\n",
       "    .dataframe thead th {\n",
       "        text-align: right;\n",
       "    }\n",
       "</style>\n",
       "<table border=\"1\" class=\"dataframe\">\n",
       "  <thead>\n",
       "    <tr style=\"text-align: right;\">\n",
       "      <th></th>\n",
       "      <th>show_id</th>\n",
       "      <th>type</th>\n",
       "      <th>title</th>\n",
       "      <th>director</th>\n",
       "      <th>cast</th>\n",
       "      <th>country</th>\n",
       "      <th>date_added</th>\n",
       "      <th>release_year</th>\n",
       "      <th>rating</th>\n",
       "      <th>duration</th>\n",
       "      <th>listed_in</th>\n",
       "      <th>description</th>\n",
       "      <th>year_added</th>\n",
       "    </tr>\n",
       "  </thead>\n",
       "  <tbody>\n",
       "    <tr>\n",
       "      <th>693</th>\n",
       "      <td>s694</td>\n",
       "      <td>Movie</td>\n",
       "      <td>Ali &amp; Ratu Ratu Queens</td>\n",
       "      <td>Lucky Kuswandi</td>\n",
       "      <td>Iqbaal Ramadhan, Nirina Zubir, Asri Welas, Tik...</td>\n",
       "      <td>NaN</td>\n",
       "      <td>2021-06-17</td>\n",
       "      <td>2021</td>\n",
       "      <td>TV-14</td>\n",
       "      <td>101 min</td>\n",
       "      <td>Comedies, Dramas, International Movies</td>\n",
       "      <td>After his father's passing, a teenager sets ou...</td>\n",
       "      <td>2021</td>\n",
       "    </tr>\n",
       "    <tr>\n",
       "      <th>781</th>\n",
       "      <td>s782</td>\n",
       "      <td>Movie</td>\n",
       "      <td>Black Holes | The Edge of All We Know</td>\n",
       "      <td>Peter Galison</td>\n",
       "      <td>NaN</td>\n",
       "      <td>NaN</td>\n",
       "      <td>2021-06-02</td>\n",
       "      <td>2021</td>\n",
       "      <td>TV-14</td>\n",
       "      <td>99 min</td>\n",
       "      <td>Documentaries</td>\n",
       "      <td>Follow scientists on their quest to understand...</td>\n",
       "      <td>2021</td>\n",
       "    </tr>\n",
       "    <tr>\n",
       "      <th>762</th>\n",
       "      <td>s763</td>\n",
       "      <td>Movie</td>\n",
       "      <td>Sweet &amp; Sour</td>\n",
       "      <td>Lee Kae-byeok</td>\n",
       "      <td>Jang Ki-yong, Chae Soo-bin, Jung Soo-jung</td>\n",
       "      <td>South Korea</td>\n",
       "      <td>2021-06-04</td>\n",
       "      <td>2021</td>\n",
       "      <td>TV-14</td>\n",
       "      <td>103 min</td>\n",
       "      <td>Comedies, International Movies, Romantic Movies</td>\n",
       "      <td>Faced with real-world opportunities and challe...</td>\n",
       "      <td>2021</td>\n",
       "    </tr>\n",
       "    <tr>\n",
       "      <th>763</th>\n",
       "      <td>s764</td>\n",
       "      <td>TV Show</td>\n",
       "      <td>Sweet Tooth</td>\n",
       "      <td>NaN</td>\n",
       "      <td>Nonso Anozie, Christian Convery, Adeel Akhtar,...</td>\n",
       "      <td>United States</td>\n",
       "      <td>2021-06-04</td>\n",
       "      <td>2021</td>\n",
       "      <td>TV-14</td>\n",
       "      <td>1 Season</td>\n",
       "      <td>TV Action &amp; Adventure, TV Dramas, TV Sci-Fi &amp; ...</td>\n",
       "      <td>On a perilous adventure across a post-apocalyp...</td>\n",
       "      <td>2021</td>\n",
       "    </tr>\n",
       "    <tr>\n",
       "      <th>764</th>\n",
       "      <td>s765</td>\n",
       "      <td>Movie</td>\n",
       "      <td>Trippin' with the Kandasamys</td>\n",
       "      <td>Jayan Moodley</td>\n",
       "      <td>Jailoshini Naidoo, Maeshni Naicker, Madhushan ...</td>\n",
       "      <td>South Africa</td>\n",
       "      <td>2021-06-04</td>\n",
       "      <td>2021</td>\n",
       "      <td>TV-14</td>\n",
       "      <td>94 min</td>\n",
       "      <td>Comedies, International Movies, Romantic Movies</td>\n",
       "      <td>To rekindle their marriages, best friends-turn...</td>\n",
       "      <td>2021</td>\n",
       "    </tr>\n",
       "    <tr>\n",
       "      <th>765</th>\n",
       "      <td>s766</td>\n",
       "      <td>Movie</td>\n",
       "      <td>Xtreme</td>\n",
       "      <td>Daniel Benmayor</td>\n",
       "      <td>Teo García, Óscar Jaenada, Óscar Casas, Andrea...</td>\n",
       "      <td>Spain</td>\n",
       "      <td>2021-06-04</td>\n",
       "      <td>2021</td>\n",
       "      <td>TV-MA</td>\n",
       "      <td>112 min</td>\n",
       "      <td>Action &amp; Adventure, International Movies</td>\n",
       "      <td>In this fast-paced and action-packed thriller,...</td>\n",
       "      <td>2021</td>\n",
       "    </tr>\n",
       "    <tr>\n",
       "      <th>766</th>\n",
       "      <td>s767</td>\n",
       "      <td>Movie</td>\n",
       "      <td>Alan Saldaña: Locked Up</td>\n",
       "      <td>Alex Díaz</td>\n",
       "      <td>Alan Saldaña</td>\n",
       "      <td>Mexico</td>\n",
       "      <td>2021-06-03</td>\n",
       "      <td>2021</td>\n",
       "      <td>TV-MA</td>\n",
       "      <td>49 min</td>\n",
       "      <td>Stand-Up Comedy</td>\n",
       "      <td>Mexican comedian Alan Saldaña is back, poking ...</td>\n",
       "      <td>2021</td>\n",
       "    </tr>\n",
       "    <tr>\n",
       "      <th>767</th>\n",
       "      <td>s768</td>\n",
       "      <td>TV Show</td>\n",
       "      <td>Creator's File: GOLD</td>\n",
       "      <td>NaN</td>\n",
       "      <td>Ryuji Akiyama, Ryusei Yokohama, Yumi Adachi, A...</td>\n",
       "      <td>Japan</td>\n",
       "      <td>2021-06-03</td>\n",
       "      <td>2021</td>\n",
       "      <td>TV-14</td>\n",
       "      <td>1 Season</td>\n",
       "      <td>International TV Shows, TV Comedies</td>\n",
       "      <td>Comedian Ryuji Akiyama satirizes top “creators...</td>\n",
       "      <td>2021</td>\n",
       "    </tr>\n",
       "    <tr>\n",
       "      <th>768</th>\n",
       "      <td>s769</td>\n",
       "      <td>Movie</td>\n",
       "      <td>Dancing Queens</td>\n",
       "      <td>Helena Bergström</td>\n",
       "      <td>Molly Nutley, Fredrik Quiñones, Marie Göranzon...</td>\n",
       "      <td>Sweden</td>\n",
       "      <td>2021-06-03</td>\n",
       "      <td>2021</td>\n",
       "      <td>TV-MA</td>\n",
       "      <td>111 min</td>\n",
       "      <td>Comedies, Dramas, International Movies</td>\n",
       "      <td>A dancer who gets a job cleaning at a struggli...</td>\n",
       "      <td>2021</td>\n",
       "    </tr>\n",
       "    <tr>\n",
       "      <th>770</th>\n",
       "      <td>s771</td>\n",
       "      <td>Movie</td>\n",
       "      <td>Myriam Fares: The Journey</td>\n",
       "      <td>Myriam Fares</td>\n",
       "      <td>Myriam Fares</td>\n",
       "      <td>United Arab Emirates</td>\n",
       "      <td>2021-06-03</td>\n",
       "      <td>2021</td>\n",
       "      <td>TV-14</td>\n",
       "      <td>72 min</td>\n",
       "      <td>Documentaries, International Movies, Music &amp; M...</td>\n",
       "      <td>From pregnancy to album preparations, Lebanese...</td>\n",
       "      <td>2021</td>\n",
       "    </tr>\n",
       "  </tbody>\n",
       "</table>\n",
       "</div>"
      ],
      "text/plain": [
       "    show_id     type                                  title          director  \\\n",
       "693    s694    Movie                 Ali & Ratu Ratu Queens    Lucky Kuswandi   \n",
       "781    s782    Movie  Black Holes | The Edge of All We Know     Peter Galison   \n",
       "762    s763    Movie                           Sweet & Sour     Lee Kae-byeok   \n",
       "763    s764  TV Show                            Sweet Tooth               NaN   \n",
       "764    s765    Movie           Trippin' with the Kandasamys     Jayan Moodley   \n",
       "765    s766    Movie                                 Xtreme   Daniel Benmayor   \n",
       "766    s767    Movie                Alan Saldaña: Locked Up         Alex Díaz   \n",
       "767    s768  TV Show                   Creator's File: GOLD               NaN   \n",
       "768    s769    Movie                         Dancing Queens  Helena Bergström   \n",
       "770    s771    Movie              Myriam Fares: The Journey      Myriam Fares   \n",
       "\n",
       "                                                  cast               country  \\\n",
       "693  Iqbaal Ramadhan, Nirina Zubir, Asri Welas, Tik...                   NaN   \n",
       "781                                                NaN                   NaN   \n",
       "762          Jang Ki-yong, Chae Soo-bin, Jung Soo-jung           South Korea   \n",
       "763  Nonso Anozie, Christian Convery, Adeel Akhtar,...         United States   \n",
       "764  Jailoshini Naidoo, Maeshni Naicker, Madhushan ...          South Africa   \n",
       "765  Teo García, Óscar Jaenada, Óscar Casas, Andrea...                 Spain   \n",
       "766                                       Alan Saldaña                Mexico   \n",
       "767  Ryuji Akiyama, Ryusei Yokohama, Yumi Adachi, A...                 Japan   \n",
       "768  Molly Nutley, Fredrik Quiñones, Marie Göranzon...                Sweden   \n",
       "770                                       Myriam Fares  United Arab Emirates   \n",
       "\n",
       "    date_added  release_year rating  duration  \\\n",
       "693 2021-06-17          2021  TV-14   101 min   \n",
       "781 2021-06-02          2021  TV-14    99 min   \n",
       "762 2021-06-04          2021  TV-14   103 min   \n",
       "763 2021-06-04          2021  TV-14  1 Season   \n",
       "764 2021-06-04          2021  TV-14    94 min   \n",
       "765 2021-06-04          2021  TV-MA   112 min   \n",
       "766 2021-06-03          2021  TV-MA    49 min   \n",
       "767 2021-06-03          2021  TV-14  1 Season   \n",
       "768 2021-06-03          2021  TV-MA   111 min   \n",
       "770 2021-06-03          2021  TV-14    72 min   \n",
       "\n",
       "                                             listed_in  \\\n",
       "693             Comedies, Dramas, International Movies   \n",
       "781                                      Documentaries   \n",
       "762    Comedies, International Movies, Romantic Movies   \n",
       "763  TV Action & Adventure, TV Dramas, TV Sci-Fi & ...   \n",
       "764    Comedies, International Movies, Romantic Movies   \n",
       "765           Action & Adventure, International Movies   \n",
       "766                                    Stand-Up Comedy   \n",
       "767                International TV Shows, TV Comedies   \n",
       "768             Comedies, Dramas, International Movies   \n",
       "770  Documentaries, International Movies, Music & M...   \n",
       "\n",
       "                                           description  year_added  \n",
       "693  After his father's passing, a teenager sets ou...        2021  \n",
       "781  Follow scientists on their quest to understand...        2021  \n",
       "762  Faced with real-world opportunities and challe...        2021  \n",
       "763  On a perilous adventure across a post-apocalyp...        2021  \n",
       "764  To rekindle their marriages, best friends-turn...        2021  \n",
       "765  In this fast-paced and action-packed thriller,...        2021  \n",
       "766  Mexican comedian Alan Saldaña is back, poking ...        2021  \n",
       "767  Comedian Ryuji Akiyama satirizes top “creators...        2021  \n",
       "768  A dancer who gets a job cleaning at a struggli...        2021  \n",
       "770  From pregnancy to album preparations, Lebanese...        2021  "
      ]
     },
     "execution_count": 22,
     "metadata": {},
     "output_type": "execute_result"
    }
   ],
   "source": [
    "# Top 10 newest titles available on Netflix\n",
    "data.sort_values(by='release_year',ascending=False).head(10)"
   ]
  },
  {
   "cell_type": "markdown",
   "id": "5dcb37dc",
   "metadata": {},
   "source": [
    "### 10. What is the average duration of movies and TV shows on Netflix?"
   ]
  },
  {
   "cell_type": "markdown",
   "id": "fbb2e8e1",
   "metadata": {},
   "source": [
    "We know that the duration column is object, so to calculate the mean we have to convert it to numeric column "
   ]
  },
  {
   "cell_type": "code",
   "execution_count": 23,
   "id": "02048627",
   "metadata": {},
   "outputs": [],
   "source": [
    "# Dropping the null values \n",
    "data.dropna(subset='duration',inplace=True)"
   ]
  },
  {
   "cell_type": "code",
   "execution_count": 24,
   "id": "ac0d38e5",
   "metadata": {},
   "outputs": [],
   "source": [
    "# Converting to numeric \n",
    "data['duration'] = pd.to_numeric(data['duration'].str.extract('(\\d+)', expand=False))"
   ]
  },
  {
   "cell_type": "code",
   "execution_count": 25,
   "id": "efc34357",
   "metadata": {},
   "outputs": [
    {
     "data": {
      "text/plain": [
       "type\n",
       "Movie      99.577187\n",
       "TV Show     1.751313\n",
       "Name: duration, dtype: float64"
      ]
     },
     "execution_count": 25,
     "metadata": {},
     "output_type": "execute_result"
    }
   ],
   "source": [
    "data.groupby(by='type')['duration'].mean()"
   ]
  },
  {
   "cell_type": "markdown",
   "id": "5eb90e2c",
   "metadata": {},
   "source": [
    "* The Average time for movie is 99.57 and for TV Show is 1.75."
   ]
  },
  {
   "cell_type": "markdown",
   "id": "fb0707b6",
   "metadata": {},
   "source": [
    "### 11. What is the distribution of ratings among the content available on Netflix?"
   ]
  },
  {
   "cell_type": "code",
   "execution_count": 26,
   "id": "94e52e57",
   "metadata": {},
   "outputs": [],
   "source": [
    "# Value counts for each ratings\n",
    "count_of_ratings=data.value_counts('rating')"
   ]
  },
  {
   "cell_type": "code",
   "execution_count": 27,
   "id": "8a2ec260",
   "metadata": {},
   "outputs": [
    {
     "data": {
      "image/png": "[encoded data removed]",
      "text/plain": [
       "<Figure size 1000x600 with 1 Axes>"
      ]
     },
     "metadata": {},
     "output_type": "display_data"
    }
   ],
   "source": [
    "# Plotting the count of rating \n",
    "plt.figure(figsize=(10,6))\n",
    "count_of_ratings.plot(kind='bar')\n",
    "plt.title('Distribution of ratings')\n",
    "plt.xlabel('Ratings')\n",
    "plt.ylabel('Count of Ratings')\n",
    "plt.grid(axis='y',linestyle='--',alpha=0.5)\n",
    "plt.show()"
   ]
  },
  {
   "cell_type": "markdown",
   "id": "ffb01771",
   "metadata": {},
   "source": [
    "#### Inferences:\n",
    "* From the above graph we can conclude that the highest rating is TV-MA and least rating is UR."
   ]
  },
  {
   "cell_type": "markdown",
   "id": "3cac25de",
   "metadata": {},
   "source": [
    "### 12. Which genre has the highest number of titles on Netflix?"
   ]
  },
  {
   "cell_type": "code",
   "execution_count": 28,
   "id": "e40ecaa4",
   "metadata": {},
   "outputs": [
    {
     "data": {
      "text/plain": [
       "listed_in\n",
       "Dramas, International Movies                                    362\n",
       "Documentaries                                                   359\n",
       "Stand-Up Comedy                                                 334\n",
       "Comedies, Dramas, International Movies                          274\n",
       "Dramas, Independent Movies, International Movies                252\n",
       "                                                               ... \n",
       "Comedies, Cult Movies, Sci-Fi & Fantasy                           1\n",
       "Comedies, Cult Movies, LGBTQ Movies                               1\n",
       "International TV Shows, Spanish-Language TV Shows, TV Horror      1\n",
       "Comedies, Cult Movies, Independent Movies                         1\n",
       "Crime TV Shows, TV Action & Adventure, TV Sci-Fi & Fantasy        1\n",
       "Name: count, Length: 513, dtype: int64"
      ]
     },
     "execution_count": 28,
     "metadata": {},
     "output_type": "execute_result"
    }
   ],
   "source": [
    "data.value_counts('listed_in')"
   ]
  },
  {
   "cell_type": "markdown",
   "id": "ca4188cd",
   "metadata": {},
   "source": [
    "* Dramas and International movies have the number of titles on Netflix."
   ]
  },
  {
   "cell_type": "markdown",
   "id": "1e7ed168",
   "metadata": {},
   "source": [
    "### 13. Is there any trend in the duration of content added over the years?"
   ]
  },
  {
   "cell_type": "code",
   "execution_count": 29,
   "id": "67864759",
   "metadata": {},
   "outputs": [],
   "source": [
    "duration_of_content=data.groupby(by='year_added')['duration'].mean()"
   ]
  },
  {
   "cell_type": "code",
   "execution_count": 30,
   "id": "a2c9ddce",
   "metadata": {},
   "outputs": [
    {
     "data": {
      "image/png": "[encoded data removed]",
      "text/plain": [
       "<Figure size 1000x600 with 1 Axes>"
      ]
     },
     "metadata": {},
     "output_type": "display_data"
    }
   ],
   "source": [
    "plt.figure(figsize=(10,6))\n",
    "duration_of_content.plot(kind='line',color='red',ls=':',lw=3,marker='o',ms=5)\n",
    "plt.title('Duration of content added over the years')\n",
    "plt.xlabel('Years')\n",
    "plt.ylabel('Duration')\n",
    "plt.show()"
   ]
  },
  {
   "cell_type": "markdown",
   "id": "7e0cab8d",
   "metadata": {},
   "source": [
    "#### Inferences:\n",
    "* From the above graph we can conclude that the duration was longest between the years 2010 to 2013.\n",
    "* And the duration between years 2013 to 2016 was short.\n",
    "* And the duration again increased from year 2016 and last till the 2020 but the duration of these movies were still less than the 2010 era."
   ]
  },
  {
   "cell_type": "markdown",
   "id": "409942c8",
   "metadata": {},
   "source": [
    "### 14. How many titles are added from each country?"
   ]
  },
  {
   "cell_type": "code",
   "execution_count": 38,
   "id": "595ed1c7",
   "metadata": {},
   "outputs": [
    {
     "data": {
      "text/plain": [
       "country\n",
       "United States                                                                          2809\n",
       "India                                                                                   972\n",
       "United Kingdom                                                                          418\n",
       "Japan                                                                                   244\n",
       "South Korea                                                                             199\n",
       "                                                                                       ... \n",
       "Ireland, Canada, Luxembourg, United States, United Kingdom, Philippines, India            1\n",
       "Ireland, Canada, United Kingdom, United States                                            1\n",
       "Ireland, Canada, United States, United Kingdom                                            1\n",
       "Ireland, France, Iceland, United States, Mexico, Belgium, United Kingdom, Hong Kong       1\n",
       "Zimbabwe                                                                                  1\n",
       "Name: count, Length: 748, dtype: int64"
      ]
     },
     "execution_count": 38,
     "metadata": {},
     "output_type": "execute_result"
    }
   ],
   "source": [
    "data.value_counts('country')"
   ]
  },
  {
   "cell_type": "markdown",
   "id": "172c8f0f",
   "metadata": {},
   "source": [
    "* The highest number of title are added United State followed by India and so on."
   ]
  },
  {
   "cell_type": "markdown",
   "id": "c14c4084",
   "metadata": {},
   "source": [
    "### 15. Are there any outliers in the duration of movies or TV shows? Visualize this."
   ]
  },
  {
   "cell_type": "markdown",
   "id": "93bd0d18",
   "metadata": {},
   "source": [
    "To check the outliers, we use boxplot."
   ]
  },
  {
   "cell_type": "code",
   "execution_count": 43,
   "id": "761326db",
   "metadata": {},
   "outputs": [
    {
     "data": {
      "image/png": "[encoded data removed]",
      "text/plain": [
       "<Figure size 640x480 with 1 Axes>"
      ]
     },
     "metadata": {},
     "output_type": "display_data"
    }
   ],
   "source": [
    "sns.boxplot(x='type',y='duration',data=data)\n",
    "plt.title('Box Plot of Duration for Movies and TV Shows')\n",
    "plt.xlabel('Type')\n",
    "plt.ylabel('Duration (minutes)')\n",
    "plt.show()"
   ]
  },
  {
   "cell_type": "markdown",
   "id": "ec5573c7",
   "metadata": {},
   "source": [
    "* Yes, there are many outliers in duration of movie and TV shows."
   ]
  }
 ],
 "metadata": {
  "kernelspec": {
   "display_name": "Python 3 (ipykernel)",
   "language": "python",
   "name": "python3"
  },
  "language_info": {
   "codemirror_mode": {
    "name": "ipython",
    "version": 3
   },
   "file_extension": ".py",
   "mimetype": "text/x-python",
   "name": "python",
   "nbconvert_exporter": "python",
   "pygments_lexer": "ipython3",
   "version": "3.11.5"
  }
 },
 "nbformat": 4,
 "nbformat_minor": 5
}
